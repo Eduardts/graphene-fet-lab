{
 "cells": [
  {
   "cell_type": "markdown",
   "metadata": {},
   "source": [
    "# Graphene FET I-V Characteristics\n",
    "\n",
    "This notebook demonstrates parameter sweeps and plotting of I-V curves for the GFET model."
   ]
  },
  {
   "cell_type": "code",
   "execution_count": null,
   "metadata": {},
   "outputs": [],
   "source": [
    "import numpy as np\n",
    "import matplotlib.pyplot as plt\n",
    "from matplotlib import cm\n",
    "import sys\n",
    "sys.path.append('../src')\n",
    "\n",
    "# For SPICE simulation (if available)\n",
    "try:\n",
    "    from spice_interface import GFETSimulator\n",
    "    SPICE_AVAILABLE = True\n",
    "except ImportError:\n",
    "    SPICE_AVAILABLE = False\n",
    "    print(\"SPICE interface not available, using analytical model\")\n",
    "\n",
    "plt.style.use('seaborn-v0_8-darkgrid')\n",
    "%matplotlib inline"
   ]
  },
  {
   "cell_type": "markdown",
   "metadata": {},
   "source": [
    "## Analytical GFET Model\n",
    "\n",
    "Simplified analytical model for quick calculations."
   ]
  },
  {
   "cell_type": "code",
   "execution_count": null,
   "metadata": {},
   "outputs": [],
   "source": [
    "class AnalyticalGFET:\n",
    "    \"\"\"Analytical GFET model for quick I-V calculations\"\"\"\n",
    "    \n",
    "    def __init__(self, W=10e-6, L=1e-6, Cox=1.15e-8, mu=10000, Vdirac=0.0):\n",
    "        self.W = W  # Channel width (m)\n",
    "        self.L = L  # Channel length (m)\n",
    "        self.Cox = Cox  # Gate oxide capacitance (F/cm^2)\n",
    "        self.mu = mu  # Mobility (cm^2/V·s)\n",
    "        self.Vdirac = Vdirac  # Dirac point voltage (V)\n",
    "        self.q = 1.6e-19  # Elementary charge (C)\n",
    "        \n",
    "    def carrier_density(self, Vgs):\n",
    "        \"\"\"Calculate carrier density (cm^-2)\"\"\"\n",
    "        n_gate = self.Cox * 1e4 * (Vgs - self.Vdirac) / self.q\n",
    "        n_min = 1e10  # Residual carrier density\n",
    "        return np.sqrt(n_gate**2 + n_min**2)\n",
    "    \n",
    "    def drain_current(self, Vgs, Vds):\n",
    "        \"\"\"Calculate drain current (A)\"\"\"\n",
    "        n = self.carrier_density(Vgs)\n",
    "        \n",
    "        # Linear region\n",
    "        if abs(Vds) < 0.1:\n",
    "            alpha = self.q * self.mu * n * 1e-4 * (self.W / self.L)\n",
    "            return alpha * Vds\n",
    "        \n",
    "        # Saturation region (simplified)\n",
    "        vF = 1e6  # Fermi velocity (m/s)\n",
    "        beta = vF * np.sqrt(np.pi * n * 1e4)  # Convert to m^-2\n",
    "        Ids = self.W * self.q * n * 1e4 * beta * np.tanh(Vds / 0.5)\n",
    "        return Ids\n",
    "\n",
    "# Create GFET instance\n",
    "gfet = AnalyticalGFET()"
   ]
  },
  {
   "cell_type": "markdown",
   "metadata": {},
   "source": [
    "## Output Characteristics (Ids vs Vds)"
   ]
  },
  {
   "cell_type": "code",
   "execution_count": null,
   "metadata": {},
   "outputs": [],
   "source": [
    "# Sweep parameters\n",
    "Vds_range = np.linspace(0, 2.0, 100)\n",
    "Vgs_values = np.linspace(-1.0, 1.0, 5)\n",
    "\n",
    "# Plot output characteristics\n",
    "plt.figure(figsize=(10, 6))\n",
    "colors = cm.viridis(np.linspace(0, 1, len(Vgs_values)))\n",
    "\n",
    "for i, Vgs in enumerate(Vgs_values):\n",
    "    Ids = [gfet.drain_current(Vgs, Vds) * 1e6 for Vds in Vds_range]  # Convert to µA\n",
    "    plt.plot(Vds_range, Ids, label=f'Vgs = {Vgs:.2f} V', color=colors[i], linewidth=2)\n",
    "\n",
    "plt.xlabel('Drain-Source Voltage Vds (V)', fontsize=12)\n",
    "plt.ylabel('Drain Current Ids (µA)', fontsize=12)\n",
    "plt.title('GFET Output Characteristics', fontsize=14, fontweight='bold')\n",
    "plt.legend(loc='best')\n",
    "plt.grid(True, alpha=0.3)\n",
    "plt.tight_layout()\n",
    "plt.show()"
   ]
  },
  {
   "cell_type": "markdown",
   "metadata": {},
   "source": [
    "## Transfer Characteristics (Ids vs Vgs)"
   ]
  },
  {
   "cell_type": "code",
   "execution_count": null,
   "metadata": {},
   "outputs": [],
   "source": [
    "# Sweep parameters\n",
    "Vgs_range = np.linspace(-2.0, 2.0, 200)\n",
    "Vds_values = [0.1, 0.5, 1.0]\n",
    "\n",
    "# Plot transfer characteristics\n",
    "plt.figure(figsize=(10, 6))\n",
    "\n",
    "for Vds in Vds_values:\n",
    "    Ids = [abs(gfet.drain_current(Vgs, Vds)) * 1e6 for Vgs in Vgs_range]  # Convert to µA\n",
    "    plt.semilogy(Vgs_range, Ids, label=f'Vds = {Vds:.1f} V', linewidth=2)\n",
    "\n",
    "plt.xlabel('Gate-Source Voltage Vgs (V)', fontsize=12)\n",
    "plt.ylabel('Drain Current |Ids| (µA)', fontsize=12)\n",
    "plt.title('GFET Transfer Characteristics (Log Scale)', fontsize=14, fontweight='bold')\n",
    "plt.legend(loc='best')\n",
    "plt.grid(True, alpha=0.3, which='both')\n",
    "plt.axvline(x=0, color='red', linestyle='--', alpha=0.5, label='Dirac Point')\n",
    "plt.tight_layout()\n",
    "plt.show()"
   ]
  },
  {
   "cell_type": "markdown",
   "metadata": {},
   "source": [
    "## Ambipolar Conduction\n",
    "\n",
    "Graphene FETs exhibit ambipolar behavior - conduction by both electrons and holes."
   ]
  },
  {
   "cell_type": "code",
   "execution_count": null,
   "metadata": {},
   "outputs": [],
   "source": [
    "# Plot ambipolar characteristics\n",
    "Vgs_range = np.linspace(-2.0, 2.0, 200)\n",
    "Vds = 1.0\n",
    "\n",
    "Ids = [gfet.drain_current(Vgs, Vds) * 1e6 for Vgs in Vgs_range]\n",
    "conductance = np.gradient(Ids, Vgs_range[1] - Vgs_range[0])\n",
    "\n",
    "fig, (ax1, ax2) = plt.subplots(2, 1, figsize=(10, 10))\n",
    "\n",
    "# Current\n",
    "ax1.plot(Vgs_range, Ids, linewidth=2, color='blue')\n",
    "ax1.axvline(x=0, color='red', linestyle='--', alpha=0.5)\n",
    "ax1.set_xlabel('Gate-Source Voltage Vgs (V)', fontsize=12)\n",
    "ax1.set_ylabel('Drain Current Ids (µA)', fontsize=12)\n",
    "ax1.set_title('Ambipolar Conduction', fontsize=14, fontweight='bold')\n",
    "ax1.grid(True, alpha=0.3)\n",
    "ax1.text(-1.5, max(Ids)*0.8, 'Hole\\nConduction', fontsize=10, ha='center')\n",
    "ax1.text(1.5, max(Ids)*0.8, 'Electron\\nConduction', fontsize=10, ha='center')\n",
    "\n",
    "# Transconductance\n",
    "ax2.plot(Vgs_range, conductance, linewidth=2, color='green')\n",
    "ax2.axvline(x=0, color='red', linestyle='--', alpha=0.5)\n",
    "ax2.axhline(y=0, color='black', linestyle='-', alpha=0.3)\n",
    "ax2.set_xlabel('Gate-Source Voltage Vgs (V)', fontsize=12)\n",
    "ax2.set_ylabel('Transconductance gm (µS)', fontsize=12)\n",
    "ax2.set_title('Transconductance vs Gate Voltage', fontsize=14, fontweight='bold')\n",
    "ax2.grid(True, alpha=0.3)\n",
    "\n",
    "plt.tight_layout()\n",
    "plt.show()"
   ]
  },
  {
   "cell_type": "markdown",
   "metadata": {},
   "source": [
    "## Parameter Sensitivity Analysis"
   ]
  },
  {
   "cell_type": "code",
   "execution_count": null,
   "metadata": {},
   "outputs": [],
   "source": [
    "# Analyze mobility effect\n",
    "Vgs_range = np.linspace(-2.0, 2.0, 100)\n",
    "Vds = 1.0\n",
    "mobility_values = [5000, 10000, 20000, 40000]  # cm^2/V·s\n",
    "\n",
    "plt.figure(figsize=(10, 6))\n",
    "\n",
    "for mu in mobility_values:\n",
    "    gfet_temp = AnalyticalGFET(mu=mu)\n",
    "    Ids = [abs(gfet_temp.drain_current(Vgs, Vds)) * 1e6 for Vgs in Vgs_range]\n",
    "    plt.semilogy(Vgs_range, Ids, label=f'µ = {mu} cm²/V·s', linewidth=2)\n",
    "\n",
    "plt.xlabel('Gate-Source Voltage Vgs (V)', fontsize=12)\n",
    "plt.ylabel('Drain Current |Ids| (µA)', fontsize=12)\n",
    "plt.title('Effect of Mobility on GFET Characteristics', fontsize=14, fontweight='bold')\n",
    "plt.legend(loc='best')\n",
    "plt.grid(True, alpha=0.3, which='both')\n",
    "plt.tight_layout()\n",
    "plt.show()\n",
    "\n",
    "print(\"Higher mobility leads to:\")\n",
    "print(\"  - Higher drain current\")\n",
    "print(\"  - Better on/off ratio\")\n",
    "print(\"  - Improved device performance\")"
   ]
  },
  {
   "cell_type": "markdown",
   "metadata": {},
   "source": [
    "## Summary\n",
    "\n",
    "Key observations:\n",
    "- Ambipolar conduction with Dirac point at Vgs ≈ 0V\n",
    "- Carrier density modulation by gate voltage\n",
    "- Mobility strongly affects device performance\n",
    "- Current saturation at high Vds"
   ]
  }
 ],
 "metadata": {
  "kernelspec": {
   "display_name": "Python 3",
   "language": "python",
   "name": "python3"
  },
  "language_info": {
   "codemirror_mode": {
    "name": "ipython",
    "version": 3
   },
   "file_extension": ".py",
   "mimetype": "text/x-python",
   "name": "python",
   "nbconvert_exporter": "python",
   "pygments_lexer": "ipython3",
   "version": "3.8.0"
  }
 },
 "nbformat": 4,
 "nbformat_minor": 4
}
